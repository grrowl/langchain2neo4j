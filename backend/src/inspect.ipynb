{
 "cells": [
  {
   "cell_type": "code",
   "execution_count": 2,
   "metadata": {},
   "outputs": [
    {
     "ename": "ModuleNotFoundError",
     "evalue": "No module named 'cypher_database_tool'",
     "output_type": "error",
     "traceback": [
      "\u001b[0;31m---------------------------------------------------------------------------\u001b[0m",
      "\u001b[0;31mModuleNotFoundError\u001b[0m                       Traceback (most recent call last)",
      "\u001b[1;32m/Users/tom/repos/tomasonjo/langchain2neo4j/backend/src/inspect.ipynb Cell 1\u001b[0m line \u001b[0;36m4\n\u001b[1;32m      <a href='vscode-notebook-cell:/Users/tom/repos/tomasonjo/langchain2neo4j/backend/src/inspect.ipynb#W0sZmlsZQ%3D%3D?line=0'>1</a>\u001b[0m \u001b[39mimport\u001b[39;00m \u001b[39mos\u001b[39;00m\n\u001b[1;32m      <a href='vscode-notebook-cell:/Users/tom/repos/tomasonjo/langchain2neo4j/backend/src/inspect.ipynb#W0sZmlsZQ%3D%3D?line=1'>2</a>\u001b[0m \u001b[39mimport\u001b[39;00m \u001b[39mlogging\u001b[39;00m\n\u001b[0;32m----> <a href='vscode-notebook-cell:/Users/tom/repos/tomasonjo/langchain2neo4j/backend/src/inspect.ipynb#W0sZmlsZQ%3D%3D?line=3'>4</a>\u001b[0m \u001b[39mfrom\u001b[39;00m \u001b[39magent\u001b[39;00m \u001b[39mimport\u001b[39;00m MovieAgent\n\u001b[1;32m      <a href='vscode-notebook-cell:/Users/tom/repos/tomasonjo/langchain2neo4j/backend/src/inspect.ipynb#W0sZmlsZQ%3D%3D?line=4'>5</a>\u001b[0m \u001b[39mfrom\u001b[39;00m \u001b[39mdatabase\u001b[39;00m \u001b[39mimport\u001b[39;00m Neo4jDatabase\n\u001b[1;32m      <a href='vscode-notebook-cell:/Users/tom/repos/tomasonjo/langchain2neo4j/backend/src/inspect.ipynb#W0sZmlsZQ%3D%3D?line=5'>6</a>\u001b[0m \u001b[39mfrom\u001b[39;00m \u001b[39mfastapi\u001b[39;00m \u001b[39mimport\u001b[39;00m APIRouter, HTTPException, Query\n",
      "File \u001b[0;32m~/repos/tomasonjo/langchain2neo4j/backend/src/agent.py:11\u001b[0m\n\u001b[1;32m      7\u001b[0m \u001b[39mfrom\u001b[39;00m \u001b[39mlangchain\u001b[39;00m\u001b[39m.\u001b[39;00m\u001b[39magents\u001b[39;00m \u001b[39mimport\u001b[39;00m AgentType\n\u001b[1;32m      9\u001b[0m \u001b[39mimport\u001b[39;00m \u001b[39mos\u001b[39;00m\n\u001b[0;32m---> 11\u001b[0m \u001b[39mfrom\u001b[39;00m \u001b[39mcypher_database_tool\u001b[39;00m \u001b[39mimport\u001b[39;00m LLMCypherGraphChain\n\u001b[1;32m     13\u001b[0m \u001b[39m# from keyword_neo4j_tool import LLMKeywordGraphChain\u001b[39;00m\n\u001b[1;32m     14\u001b[0m \u001b[39m# from vector_neo4j_tool import LLMNeo4jVectorChain\u001b[39;00m\n\u001b[1;32m     15\u001b[0m \u001b[39mfrom\u001b[39;00m \u001b[39mgraph\u001b[39;00m \u001b[39mimport\u001b[39;00m get_retriver, get_qa_chain\n",
      "\u001b[0;31mModuleNotFoundError\u001b[0m: No module named 'cypher_database_tool'"
     ]
    }
   ],
   "source": [
    "import os\n",
    "import logging\n",
    "\n",
    "from agent import MovieAgent\n",
    "from database import Neo4jDatabase\n",
    "from fastapi import APIRouter, HTTPException, Query\n",
    "from run import get_result_and_thought_using_graph\n",
    "\n",
    "neo4j_host = os.environ.get(\"NEO4J_URL\")\n",
    "neo4j_user = os.environ.get(\"NEO4J_USER\")\n",
    "neo4j_password = os.environ.get(\"NEO4J_PASS\")\n",
    "model_name = os.environ.get(\"MODEL_NAME\", \"gpt-3.5-turbo\")\n",
    "\n",
    "logger = logging.getLogger(__name__)\n",
    "movie_graph = Neo4jDatabase(\n",
    "    host=neo4j_host, user=neo4j_user, password=neo4j_password)\n",
    "agent_movie = MovieAgent.initialize(\n",
    "    movie_graph=movie_graph, model_name=model_name)\n"
   ]
  },
  {
   "cell_type": "code",
   "execution_count": 3,
   "metadata": {},
   "outputs": [
    {
     "ename": "NameError",
     "evalue": "name 'get_result_and_thought_using_graph' is not defined",
     "output_type": "error",
     "traceback": [
      "\u001b[0;31m---------------------------------------------------------------------------\u001b[0m",
      "\u001b[0;31mNameError\u001b[0m                                 Traceback (most recent call last)",
      "\u001b[1;32m/Users/tom/repos/tomasonjo/langchain2neo4j/backend/src/inspect.ipynb Cell 2\u001b[0m line \u001b[0;36m3\n\u001b[1;32m      <a href='vscode-notebook-cell:/Users/tom/repos/tomasonjo/langchain2neo4j/backend/src/inspect.ipynb#W1sZmlsZQ%3D%3D?line=0'>1</a>\u001b[0m message \u001b[39m=\u001b[39m \u001b[39m'\u001b[39m\u001b[39mtell me about node types you know about\u001b[39m\u001b[39m'\u001b[39m\n\u001b[0;32m----> <a href='vscode-notebook-cell:/Users/tom/repos/tomasonjo/langchain2neo4j/backend/src/inspect.ipynb#W1sZmlsZQ%3D%3D?line=2'>3</a>\u001b[0m get_result_and_thought_using_graph(agent_movie, movie_graph, message)\n",
      "\u001b[0;31mNameError\u001b[0m: name 'get_result_and_thought_using_graph' is not defined"
     ]
    }
   ],
   "source": [
    "message = 'tell me about node types you know about'\n",
    "\n",
    "get_result_and_thought_using_graph(agent_movie, movie_graph, message)\n"
   ]
  }
 ],
 "metadata": {
  "kernelspec": {
   "display_name": "Python 3",
   "language": "python",
   "name": "python3"
  },
  "language_info": {
   "codemirror_mode": {
    "name": "ipython",
    "version": 3
   },
   "file_extension": ".py",
   "mimetype": "text/x-python",
   "name": "python",
   "nbconvert_exporter": "python",
   "pygments_lexer": "ipython3",
   "version": "3.11.6"
  },
  "orig_nbformat": 4
 },
 "nbformat": 4,
 "nbformat_minor": 2
}
